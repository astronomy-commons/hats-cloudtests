{
 "cells": [
  {
   "cell_type": "markdown",
   "metadata": {},
   "source": [
    "# LOCAL unit test data\n",
    "\n",
    "There are two types of data used in unit tests in this repo: local and cloud. This notebook concerns itself only with the local versions of test data, so you can re-generate it.\n",
    "\n",
    "## Object catalog: small sky\n",
    "\n",
    "This is the same \"object catalog\" with 131 randomly generated radec values inside the order0-pixel11 healpix pixel that is used in hats and LSDB unit test suites."
   ]
  },
  {
   "cell_type": "code",
   "execution_count": null,
   "metadata": {},
   "outputs": [
    {
     "name": "stderr",
     "output_type": "stream",
     "text": [
      "/home/delucchi/.virtualenvs/hats/lib/python3.12/site-packages/distributed/node.py:187: UserWarning: Port 8787 is already in use.\n",
      "Perhaps you already have a cluster running?\n",
      "Hosting the HTTP server on port 46667 instead\n",
      "  warnings.warn(\n"
     ]
    }
   ],
   "source": [
    "import tempfile\n",
    "\n",
    "import hats_import.pipeline as runner\n",
    "from hats_import.catalog.arguments import ImportArguments\n",
    "from dask.distributed import Client\n",
    "from hats.io.file_io import remove_directory\n",
    "\n",
    "tmp_path = tempfile.TemporaryDirectory()\n",
    "tmp_dir = tmp_path.name\n",
    "\n",
    "client = Client(n_workers=1, threads_per_worker=1, local_directory=tmp_dir)"
   ]
  },
  {
   "cell_type": "markdown",
   "metadata": {},
   "source": [
    "### small_sky\n",
    "\n",
    "This catalog was generated with the following snippet:"
   ]
  },
  {
   "cell_type": "code",
   "execution_count": 6,
   "metadata": {},
   "outputs": [
    {
     "data": {
      "application/vnd.jupyter.widget-view+json": {
       "model_id": "fe54745642d94229ae3f74a5e7596f8c",
       "version_major": 2,
       "version_minor": 0
      },
      "text/plain": [
       "Planning  :   0%|          | 0/4 [00:00<?, ?it/s]"
      ]
     },
     "metadata": {},
     "output_type": "display_data"
    },
    {
     "data": {
      "application/vnd.jupyter.widget-view+json": {
       "model_id": "e153b4ddb1fc4d26bf6fda75944fdd1f",
       "version_major": 2,
       "version_minor": 0
      },
      "text/plain": [
       "Mapping   :   0%|          | 0/5 [00:00<?, ?it/s]"
      ]
     },
     "metadata": {},
     "output_type": "display_data"
    },
    {
     "data": {
      "application/vnd.jupyter.widget-view+json": {
       "model_id": "6ce4a71b94ef4972b128bee7f0bc7cf4",
       "version_major": 2,
       "version_minor": 0
      },
      "text/plain": [
       "Binning   :   0%|          | 0/2 [00:00<?, ?it/s]"
      ]
     },
     "metadata": {},
     "output_type": "display_data"
    },
    {
     "data": {
      "application/vnd.jupyter.widget-view+json": {
       "model_id": "4d0ceddadd2645739627f6867276bf7f",
       "version_major": 2,
       "version_minor": 0
      },
      "text/plain": [
       "Splitting :   0%|          | 0/5 [00:00<?, ?it/s]"
      ]
     },
     "metadata": {},
     "output_type": "display_data"
    },
    {
     "data": {
      "application/vnd.jupyter.widget-view+json": {
       "model_id": "4562ac18684746b3b64841556af356cc",
       "version_major": 2,
       "version_minor": 0
      },
      "text/plain": [
       "Reducing  :   0%|          | 0/1 [00:00<?, ?it/s]"
      ]
     },
     "metadata": {},
     "output_type": "display_data"
    },
    {
     "data": {
      "application/vnd.jupyter.widget-view+json": {
       "model_id": "0063e0aff4114ec4894a629ef63bebee",
       "version_major": 2,
       "version_minor": 0
      },
      "text/plain": [
       "Finishing :   0%|          | 0/5 [00:00<?, ?it/s]"
      ]
     },
     "metadata": {},
     "output_type": "display_data"
    }
   ],
   "source": [
    "remove_directory(\"./small_sky\")\n",
    "with tempfile.TemporaryDirectory() as pipeline_tmp:\n",
    "    args = ImportArguments(\n",
    "        input_path=\"small_sky_parts\",\n",
    "        output_path=\".\",\n",
    "        highest_healpix_order=1,\n",
    "        file_reader=\"csv\",\n",
    "        output_artifact_name=\"small_sky\",\n",
    "        tmp_dir=pipeline_tmp,\n",
    "    )\n",
    "    runner.pipeline_with_client(args, client)"
   ]
  },
  {
   "cell_type": "markdown",
   "metadata": {},
   "source": [
    "### small_sky_order1\n",
    "\n",
    "This catalog has the same data points as other small sky catalogs, but is coerced to spreading these data points over partitions at order 1, instead of order 0.\n",
    "\n",
    "This means there are 4 leaf partition files, instead of just 1, and so can be useful for confirming reads/writes over multiple leaf partition files.\n",
    "\n",
    "NB: Setting `constant_healpix_order` coerces the import pipeline to create leaf partitions at order 1.\n",
    "\n",
    "This catalog was generated with the following snippet:"
   ]
  },
  {
   "cell_type": "code",
   "execution_count": 7,
   "metadata": {},
   "outputs": [
    {
     "data": {
      "application/vnd.jupyter.widget-view+json": {
       "model_id": "2eb3d6e9674742f78d8182badda2bf2b",
       "version_major": 2,
       "version_minor": 0
      },
      "text/plain": [
       "Planning  :   0%|          | 0/4 [00:00<?, ?it/s]"
      ]
     },
     "metadata": {},
     "output_type": "display_data"
    },
    {
     "data": {
      "application/vnd.jupyter.widget-view+json": {
       "model_id": "51b60a80598240eea7db7eb3fcfb8cf0",
       "version_major": 2,
       "version_minor": 0
      },
      "text/plain": [
       "Mapping   :   0%|          | 0/5 [00:00<?, ?it/s]"
      ]
     },
     "metadata": {},
     "output_type": "display_data"
    },
    {
     "data": {
      "application/vnd.jupyter.widget-view+json": {
       "model_id": "06548ba731a848fead32f621d75c5697",
       "version_major": 2,
       "version_minor": 0
      },
      "text/plain": [
       "Binning   :   0%|          | 0/2 [00:00<?, ?it/s]"
      ]
     },
     "metadata": {},
     "output_type": "display_data"
    },
    {
     "data": {
      "application/vnd.jupyter.widget-view+json": {
       "model_id": "cd23a5c98feb4f3d84d0bb326814297a",
       "version_major": 2,
       "version_minor": 0
      },
      "text/plain": [
       "Splitting :   0%|          | 0/5 [00:00<?, ?it/s]"
      ]
     },
     "metadata": {},
     "output_type": "display_data"
    },
    {
     "data": {
      "application/vnd.jupyter.widget-view+json": {
       "model_id": "b95f7dfcdfa04168965152bdb0390d91",
       "version_major": 2,
       "version_minor": 0
      },
      "text/plain": [
       "Reducing  :   0%|          | 0/4 [00:00<?, ?it/s]"
      ]
     },
     "metadata": {},
     "output_type": "display_data"
    },
    {
     "data": {
      "application/vnd.jupyter.widget-view+json": {
       "model_id": "8358651773a84e3693728e78381f8b2b",
       "version_major": 2,
       "version_minor": 0
      },
      "text/plain": [
       "Finishing :   0%|          | 0/5 [00:00<?, ?it/s]"
      ]
     },
     "metadata": {},
     "output_type": "display_data"
    }
   ],
   "source": [
    "remove_directory(\"./small_sky_order1\")\n",
    "with tempfile.TemporaryDirectory() as pipeline_tmp:\n",
    "    args = ImportArguments(\n",
    "        input_path=\"small_sky_parts\",\n",
    "        output_path=\".\",\n",
    "        file_reader=\"csv\",\n",
    "        output_artifact_name=\"small_sky_order1\",\n",
    "        constant_healpix_order=1,\n",
    "        tmp_dir=pipeline_tmp,\n",
    "    )\n",
    "    runner.pipeline_with_client(args, client)"
   ]
  },
  {
   "cell_type": "markdown",
   "metadata": {},
   "source": [
    "And that's it!\n",
    "\n",
    "Everything else is raw files, and things that need to be manipulated manually."
   ]
  },
  {
   "cell_type": "code",
   "execution_count": 8,
   "metadata": {},
   "outputs": [
    {
     "name": "stderr",
     "output_type": "stream",
     "text": [
      "2025-03-05 11:06:21,011 - distributed.diskutils - ERROR - Failed to remove '/tmp/tmpwm_o4jsa/dask-scratch-space/worker-5nqfa5ve' (failed in <built-in function lstat>): [Errno 2] No such file or directory: '/tmp/tmpwm_o4jsa/dask-scratch-space/worker-5nqfa5ve'\n"
     ]
    }
   ],
   "source": [
    "tmp_path.cleanup()\n",
    "client.close()"
   ]
  },
  {
   "cell_type": "code",
   "execution_count": null,
   "metadata": {},
   "outputs": [],
   "source": []
  }
 ],
 "metadata": {
  "kernelspec": {
   "display_name": "hats",
   "language": "python",
   "name": "python3"
  },
  "language_info": {
   "codemirror_mode": {
    "name": "ipython",
    "version": 3
   },
   "file_extension": ".py",
   "mimetype": "text/x-python",
   "name": "python",
   "nbconvert_exporter": "python",
   "pygments_lexer": "ipython3",
   "version": "3.12.3"
  }
 },
 "nbformat": 4,
 "nbformat_minor": 4
}
